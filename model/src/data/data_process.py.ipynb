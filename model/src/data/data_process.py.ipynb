{
 "cells": [
  {
   "cell_type": "code",
   "id": "initial_id",
   "metadata": {
    "collapsed": true,
    "ExecuteTime": {
     "end_time": "2025-05-07T21:25:06.503102Z",
     "start_time": "2025-05-07T21:25:06.498211Z"
    }
   },
   "source": [
    "import pandas as pd\n",
    "import ast\n",
    "from IPython.display import display"
   ],
   "outputs": [],
   "execution_count": 19
  },
  {
   "metadata": {
    "ExecuteTime": {
     "end_time": "2025-05-07T21:31:42.629961Z",
     "start_time": "2025-05-07T21:31:42.625298Z"
    }
   },
   "cell_type": "code",
   "source": [
    "train_path = 'train_processed.csv'\n",
    "test_path = 'test_processed.csv'"
   ],
   "id": "64fc029f5aa05dd0",
   "outputs": [],
   "execution_count": 30
  },
  {
   "metadata": {
    "ExecuteTime": {
     "end_time": "2025-05-07T21:31:43.067718Z",
     "start_time": "2025-05-07T21:31:43.047737Z"
    }
   },
   "cell_type": "code",
   "source": [
    "df_train = pd.read_csv(train_path)\n",
    "df_test = pd.read_csv(test_path)"
   ],
   "id": "7893c15d054d8ffb",
   "outputs": [],
   "execution_count": 31
  },
  {
   "metadata": {
    "ExecuteTime": {
     "end_time": "2025-05-07T21:31:43.503329Z",
     "start_time": "2025-05-07T21:31:43.490235Z"
    }
   },
   "cell_type": "code",
   "source": [
    "print(\"Train data sample:\")\n",
    "df_train.head()"
   ],
   "id": "6325f09b9a902475",
   "outputs": [
    {
     "name": "stdout",
     "output_type": "stream",
     "text": [
      "Train data sample:\n"
     ]
    },
    {
     "data": {
      "text/plain": [
       "   sentenceId                                           raw_text  \\\n",
       "0         241  As a blistering exercise in sustained tension,...   \n",
       "1        1680  Surprisingly very good adaption of the origina...   \n",
       "2         693  Seeing this film was the absolute best decisio...   \n",
       "3         421  For a film so clearly designed to be fun above...   \n",
       "4         826  “Freaky Tales” will find its audience, I think...   \n",
       "\n",
       "                                         aspectTerms  \n",
       "0  [{'term': 'Warfare', 'polarity': 'positive'}, ...  \n",
       "1  [{'term': 'adaption', 'polarity': 'positive'},...  \n",
       "2  [{'term': 'film', 'polarity': 'positive'}, {'t...  \n",
       "3  [{'term': 'film', 'polarity': 'neutral'}, {'te...  \n",
       "4  [{'term': 'Freaky Tales', 'polarity': 'positiv...  "
      ],
      "text/html": [
       "<div>\n",
       "<style scoped>\n",
       "    .dataframe tbody tr th:only-of-type {\n",
       "        vertical-align: middle;\n",
       "    }\n",
       "\n",
       "    .dataframe tbody tr th {\n",
       "        vertical-align: top;\n",
       "    }\n",
       "\n",
       "    .dataframe thead th {\n",
       "        text-align: right;\n",
       "    }\n",
       "</style>\n",
       "<table border=\"1\" class=\"dataframe\">\n",
       "  <thead>\n",
       "    <tr style=\"text-align: right;\">\n",
       "      <th></th>\n",
       "      <th>sentenceId</th>\n",
       "      <th>raw_text</th>\n",
       "      <th>aspectTerms</th>\n",
       "    </tr>\n",
       "  </thead>\n",
       "  <tbody>\n",
       "    <tr>\n",
       "      <th>0</th>\n",
       "      <td>241</td>\n",
       "      <td>As a blistering exercise in sustained tension,...</td>\n",
       "      <td>[{'term': 'Warfare', 'polarity': 'positive'}, ...</td>\n",
       "    </tr>\n",
       "    <tr>\n",
       "      <th>1</th>\n",
       "      <td>1680</td>\n",
       "      <td>Surprisingly very good adaption of the origina...</td>\n",
       "      <td>[{'term': 'adaption', 'polarity': 'positive'},...</td>\n",
       "    </tr>\n",
       "    <tr>\n",
       "      <th>2</th>\n",
       "      <td>693</td>\n",
       "      <td>Seeing this film was the absolute best decisio...</td>\n",
       "      <td>[{'term': 'film', 'polarity': 'positive'}, {'t...</td>\n",
       "    </tr>\n",
       "    <tr>\n",
       "      <th>3</th>\n",
       "      <td>421</td>\n",
       "      <td>For a film so clearly designed to be fun above...</td>\n",
       "      <td>[{'term': 'film', 'polarity': 'neutral'}, {'te...</td>\n",
       "    </tr>\n",
       "    <tr>\n",
       "      <th>4</th>\n",
       "      <td>826</td>\n",
       "      <td>“Freaky Tales” will find its audience, I think...</td>\n",
       "      <td>[{'term': 'Freaky Tales', 'polarity': 'positiv...</td>\n",
       "    </tr>\n",
       "  </tbody>\n",
       "</table>\n",
       "</div>"
      ]
     },
     "execution_count": 32,
     "metadata": {},
     "output_type": "execute_result"
    }
   ],
   "execution_count": 32
  },
  {
   "metadata": {
    "ExecuteTime": {
     "end_time": "2025-05-07T21:31:47.150572Z",
     "start_time": "2025-05-07T21:31:47.138748Z"
    }
   },
   "cell_type": "code",
   "source": [
    "print(\"Test data sample:\")\n",
    "df_test.head()"
   ],
   "id": "5467834b1c9d10c2",
   "outputs": [
    {
     "name": "stdout",
     "output_type": "stream",
     "text": [
      "Test data sample:\n"
     ]
    },
    {
     "data": {
      "text/plain": [
       "   sentenceId                                           raw_text  \\\n",
       "0        1404           Very good plot with an unexpected ending   \n",
       "1         354  Mickey 17 is an ambitious spectacle. One that ...   \n",
       "2        1344  An audacious, exhilarating and heartfelt spect...   \n",
       "3         909  What we’ve wound up with in these Freaky Tales...   \n",
       "4        1300  An exhilarating survive-the-night vampire thri...   \n",
       "\n",
       "                                         aspectTerms  \n",
       "0  [{'term': 'plot', 'polarity': 'positive'}, {'t...  \n",
       "1  [{'term': 'Mickey 17', 'polarity': 'positive'}...  \n",
       "2  [{'term': 'spectacle', 'polarity': 'positive'}...  \n",
       "3  [{'term': 'Freaky Tales', 'polarity': 'positiv...  \n",
       "4  [{'term': 'vampire thriller', 'polarity': 'pos...  "
      ],
      "text/html": [
       "<div>\n",
       "<style scoped>\n",
       "    .dataframe tbody tr th:only-of-type {\n",
       "        vertical-align: middle;\n",
       "    }\n",
       "\n",
       "    .dataframe tbody tr th {\n",
       "        vertical-align: top;\n",
       "    }\n",
       "\n",
       "    .dataframe thead th {\n",
       "        text-align: right;\n",
       "    }\n",
       "</style>\n",
       "<table border=\"1\" class=\"dataframe\">\n",
       "  <thead>\n",
       "    <tr style=\"text-align: right;\">\n",
       "      <th></th>\n",
       "      <th>sentenceId</th>\n",
       "      <th>raw_text</th>\n",
       "      <th>aspectTerms</th>\n",
       "    </tr>\n",
       "  </thead>\n",
       "  <tbody>\n",
       "    <tr>\n",
       "      <th>0</th>\n",
       "      <td>1404</td>\n",
       "      <td>Very good plot with an unexpected ending</td>\n",
       "      <td>[{'term': 'plot', 'polarity': 'positive'}, {'t...</td>\n",
       "    </tr>\n",
       "    <tr>\n",
       "      <th>1</th>\n",
       "      <td>354</td>\n",
       "      <td>Mickey 17 is an ambitious spectacle. One that ...</td>\n",
       "      <td>[{'term': 'Mickey 17', 'polarity': 'positive'}...</td>\n",
       "    </tr>\n",
       "    <tr>\n",
       "      <th>2</th>\n",
       "      <td>1344</td>\n",
       "      <td>An audacious, exhilarating and heartfelt spect...</td>\n",
       "      <td>[{'term': 'spectacle', 'polarity': 'positive'}...</td>\n",
       "    </tr>\n",
       "    <tr>\n",
       "      <th>3</th>\n",
       "      <td>909</td>\n",
       "      <td>What we’ve wound up with in these Freaky Tales...</td>\n",
       "      <td>[{'term': 'Freaky Tales', 'polarity': 'positiv...</td>\n",
       "    </tr>\n",
       "    <tr>\n",
       "      <th>4</th>\n",
       "      <td>1300</td>\n",
       "      <td>An exhilarating survive-the-night vampire thri...</td>\n",
       "      <td>[{'term': 'vampire thriller', 'polarity': 'pos...</td>\n",
       "    </tr>\n",
       "  </tbody>\n",
       "</table>\n",
       "</div>"
      ]
     },
     "execution_count": 33,
     "metadata": {},
     "output_type": "execute_result"
    }
   ],
   "execution_count": 33
  },
  {
   "metadata": {
    "ExecuteTime": {
     "end_time": "2025-05-07T21:31:57.899419Z",
     "start_time": "2025-05-07T21:31:57.892002Z"
    }
   },
   "cell_type": "code",
   "source": [
    "def eda_info(df, name):\n",
    "    print(f\"=== {name} Info ===\")\n",
    "    display(df.info())\n",
    "    print(f\"\\n{name} description:\")\n",
    "    display(df.describe(include='all'))"
   ],
   "id": "7f30b8b1f6f38656",
   "outputs": [],
   "execution_count": 34
  },
  {
   "metadata": {
    "ExecuteTime": {
     "end_time": "2025-05-07T21:32:05.516824Z",
     "start_time": "2025-05-07T21:32:05.473814Z"
    }
   },
   "cell_type": "code",
   "source": [
    "eda_info(df_train, 'Train')\n",
    "eda_info(df_test, 'Test')"
   ],
   "id": "55a18e8744bb255d",
   "outputs": [
    {
     "name": "stdout",
     "output_type": "stream",
     "text": [
      "=== Train Info ===\n",
      "<class 'pandas.core.frame.DataFrame'>\n",
      "RangeIndex: 1548 entries, 0 to 1547\n",
      "Data columns (total 3 columns):\n",
      " #   Column       Non-Null Count  Dtype \n",
      "---  ------       --------------  ----- \n",
      " 0   sentenceId   1548 non-null   int64 \n",
      " 1   raw_text     1548 non-null   object\n",
      " 2   aspectTerms  1548 non-null   object\n",
      "dtypes: int64(1), object(2)\n",
      "memory usage: 36.4+ KB\n"
     ]
    },
    {
     "data": {
      "text/plain": [
       "None"
      ]
     },
     "metadata": {},
     "output_type": "display_data"
    },
    {
     "name": "stdout",
     "output_type": "stream",
     "text": [
      "\n",
      "Train description:\n"
     ]
    },
    {
     "data": {
      "text/plain": [
       "         sentenceId                                           raw_text  \\\n",
       "count   1548.000000                                               1548   \n",
       "unique          NaN                                               1378   \n",
       "top             NaN  Hauser’s performance as a man whose determinat...   \n",
       "freq            NaN                                                  4   \n",
       "mean     994.133721                                                NaN   \n",
       "std      582.011730                                                NaN   \n",
       "min        1.000000                                                NaN   \n",
       "25%      489.750000                                                NaN   \n",
       "50%      987.500000                                                NaN   \n",
       "75%     1500.250000                                                NaN   \n",
       "max     2015.000000                                                NaN   \n",
       "\n",
       "                                        aspectTerms  \n",
       "count                                          1548  \n",
       "unique                                         1326  \n",
       "top     [{'term': 'movie', 'polarity': 'positive'}]  \n",
       "freq                                             21  \n",
       "mean                                            NaN  \n",
       "std                                             NaN  \n",
       "min                                             NaN  \n",
       "25%                                             NaN  \n",
       "50%                                             NaN  \n",
       "75%                                             NaN  \n",
       "max                                             NaN  "
      ],
      "text/html": [
       "<div>\n",
       "<style scoped>\n",
       "    .dataframe tbody tr th:only-of-type {\n",
       "        vertical-align: middle;\n",
       "    }\n",
       "\n",
       "    .dataframe tbody tr th {\n",
       "        vertical-align: top;\n",
       "    }\n",
       "\n",
       "    .dataframe thead th {\n",
       "        text-align: right;\n",
       "    }\n",
       "</style>\n",
       "<table border=\"1\" class=\"dataframe\">\n",
       "  <thead>\n",
       "    <tr style=\"text-align: right;\">\n",
       "      <th></th>\n",
       "      <th>sentenceId</th>\n",
       "      <th>raw_text</th>\n",
       "      <th>aspectTerms</th>\n",
       "    </tr>\n",
       "  </thead>\n",
       "  <tbody>\n",
       "    <tr>\n",
       "      <th>count</th>\n",
       "      <td>1548.000000</td>\n",
       "      <td>1548</td>\n",
       "      <td>1548</td>\n",
       "    </tr>\n",
       "    <tr>\n",
       "      <th>unique</th>\n",
       "      <td>NaN</td>\n",
       "      <td>1378</td>\n",
       "      <td>1326</td>\n",
       "    </tr>\n",
       "    <tr>\n",
       "      <th>top</th>\n",
       "      <td>NaN</td>\n",
       "      <td>Hauser’s performance as a man whose determinat...</td>\n",
       "      <td>[{'term': 'movie', 'polarity': 'positive'}]</td>\n",
       "    </tr>\n",
       "    <tr>\n",
       "      <th>freq</th>\n",
       "      <td>NaN</td>\n",
       "      <td>4</td>\n",
       "      <td>21</td>\n",
       "    </tr>\n",
       "    <tr>\n",
       "      <th>mean</th>\n",
       "      <td>994.133721</td>\n",
       "      <td>NaN</td>\n",
       "      <td>NaN</td>\n",
       "    </tr>\n",
       "    <tr>\n",
       "      <th>std</th>\n",
       "      <td>582.011730</td>\n",
       "      <td>NaN</td>\n",
       "      <td>NaN</td>\n",
       "    </tr>\n",
       "    <tr>\n",
       "      <th>min</th>\n",
       "      <td>1.000000</td>\n",
       "      <td>NaN</td>\n",
       "      <td>NaN</td>\n",
       "    </tr>\n",
       "    <tr>\n",
       "      <th>25%</th>\n",
       "      <td>489.750000</td>\n",
       "      <td>NaN</td>\n",
       "      <td>NaN</td>\n",
       "    </tr>\n",
       "    <tr>\n",
       "      <th>50%</th>\n",
       "      <td>987.500000</td>\n",
       "      <td>NaN</td>\n",
       "      <td>NaN</td>\n",
       "    </tr>\n",
       "    <tr>\n",
       "      <th>75%</th>\n",
       "      <td>1500.250000</td>\n",
       "      <td>NaN</td>\n",
       "      <td>NaN</td>\n",
       "    </tr>\n",
       "    <tr>\n",
       "      <th>max</th>\n",
       "      <td>2015.000000</td>\n",
       "      <td>NaN</td>\n",
       "      <td>NaN</td>\n",
       "    </tr>\n",
       "  </tbody>\n",
       "</table>\n",
       "</div>"
      ]
     },
     "metadata": {},
     "output_type": "display_data"
    },
    {
     "name": "stdout",
     "output_type": "stream",
     "text": [
      "=== Test Info ===\n",
      "<class 'pandas.core.frame.DataFrame'>\n",
      "RangeIndex: 381 entries, 0 to 380\n",
      "Data columns (total 3 columns):\n",
      " #   Column       Non-Null Count  Dtype \n",
      "---  ------       --------------  ----- \n",
      " 0   sentenceId   381 non-null    int64 \n",
      " 1   raw_text     381 non-null    object\n",
      " 2   aspectTerms  381 non-null    object\n",
      "dtypes: int64(1), object(2)\n",
      "memory usage: 9.1+ KB\n"
     ]
    },
    {
     "data": {
      "text/plain": [
       "None"
      ]
     },
     "metadata": {},
     "output_type": "display_data"
    },
    {
     "name": "stdout",
     "output_type": "stream",
     "text": [
      "\n",
      "Test description:\n"
     ]
    },
    {
     "data": {
      "text/plain": [
       "         sentenceId                                           raw_text  \\\n",
       "count    381.000000                                                381   \n",
       "unique          NaN                                                367   \n",
       "top             NaN  The Luckiest Man in America is good follow-up ...   \n",
       "freq            NaN                                                  2   \n",
       "mean     982.330709                                                NaN   \n",
       "std      579.594478                                                NaN   \n",
       "min       24.000000                                                NaN   \n",
       "25%      479.000000                                                NaN   \n",
       "50%      978.000000                                                NaN   \n",
       "75%     1476.000000                                                NaN   \n",
       "max     2002.000000                                                NaN   \n",
       "\n",
       "                                        aspectTerms  \n",
       "count                                           381  \n",
       "unique                                          360  \n",
       "top     [{'term': 'movie', 'polarity': 'positive'}]  \n",
       "freq                                              7  \n",
       "mean                                            NaN  \n",
       "std                                             NaN  \n",
       "min                                             NaN  \n",
       "25%                                             NaN  \n",
       "50%                                             NaN  \n",
       "75%                                             NaN  \n",
       "max                                             NaN  "
      ],
      "text/html": [
       "<div>\n",
       "<style scoped>\n",
       "    .dataframe tbody tr th:only-of-type {\n",
       "        vertical-align: middle;\n",
       "    }\n",
       "\n",
       "    .dataframe tbody tr th {\n",
       "        vertical-align: top;\n",
       "    }\n",
       "\n",
       "    .dataframe thead th {\n",
       "        text-align: right;\n",
       "    }\n",
       "</style>\n",
       "<table border=\"1\" class=\"dataframe\">\n",
       "  <thead>\n",
       "    <tr style=\"text-align: right;\">\n",
       "      <th></th>\n",
       "      <th>sentenceId</th>\n",
       "      <th>raw_text</th>\n",
       "      <th>aspectTerms</th>\n",
       "    </tr>\n",
       "  </thead>\n",
       "  <tbody>\n",
       "    <tr>\n",
       "      <th>count</th>\n",
       "      <td>381.000000</td>\n",
       "      <td>381</td>\n",
       "      <td>381</td>\n",
       "    </tr>\n",
       "    <tr>\n",
       "      <th>unique</th>\n",
       "      <td>NaN</td>\n",
       "      <td>367</td>\n",
       "      <td>360</td>\n",
       "    </tr>\n",
       "    <tr>\n",
       "      <th>top</th>\n",
       "      <td>NaN</td>\n",
       "      <td>The Luckiest Man in America is good follow-up ...</td>\n",
       "      <td>[{'term': 'movie', 'polarity': 'positive'}]</td>\n",
       "    </tr>\n",
       "    <tr>\n",
       "      <th>freq</th>\n",
       "      <td>NaN</td>\n",
       "      <td>2</td>\n",
       "      <td>7</td>\n",
       "    </tr>\n",
       "    <tr>\n",
       "      <th>mean</th>\n",
       "      <td>982.330709</td>\n",
       "      <td>NaN</td>\n",
       "      <td>NaN</td>\n",
       "    </tr>\n",
       "    <tr>\n",
       "      <th>std</th>\n",
       "      <td>579.594478</td>\n",
       "      <td>NaN</td>\n",
       "      <td>NaN</td>\n",
       "    </tr>\n",
       "    <tr>\n",
       "      <th>min</th>\n",
       "      <td>24.000000</td>\n",
       "      <td>NaN</td>\n",
       "      <td>NaN</td>\n",
       "    </tr>\n",
       "    <tr>\n",
       "      <th>25%</th>\n",
       "      <td>479.000000</td>\n",
       "      <td>NaN</td>\n",
       "      <td>NaN</td>\n",
       "    </tr>\n",
       "    <tr>\n",
       "      <th>50%</th>\n",
       "      <td>978.000000</td>\n",
       "      <td>NaN</td>\n",
       "      <td>NaN</td>\n",
       "    </tr>\n",
       "    <tr>\n",
       "      <th>75%</th>\n",
       "      <td>1476.000000</td>\n",
       "      <td>NaN</td>\n",
       "      <td>NaN</td>\n",
       "    </tr>\n",
       "    <tr>\n",
       "      <th>max</th>\n",
       "      <td>2002.000000</td>\n",
       "      <td>NaN</td>\n",
       "      <td>NaN</td>\n",
       "    </tr>\n",
       "  </tbody>\n",
       "</table>\n",
       "</div>"
      ]
     },
     "metadata": {},
     "output_type": "display_data"
    }
   ],
   "execution_count": 35
  },
  {
   "metadata": {
    "ExecuteTime": {
     "end_time": "2025-05-07T21:32:25.270470Z",
     "start_time": "2025-05-07T21:32:25.256675Z"
    }
   },
   "cell_type": "code",
   "source": [
    "def parse_aspect_terms(x):\n",
    "    \"\"\"\n",
    "    Convert a string representation of a list of dicts into a Python list of dicts.\n",
    "    Returns empty list on parse errors or if input is empty.\n",
    "    \"\"\"\n",
    "    if isinstance(x, str) and x.strip():\n",
    "        try:\n",
    "            return ast.literal_eval(x)\n",
    "        except (ValueError, SyntaxError):\n",
    "            return []\n",
    "    return []"
   ],
   "id": "c9a2fd803811340e",
   "outputs": [],
   "execution_count": 36
  },
  {
   "metadata": {
    "ExecuteTime": {
     "end_time": "2025-05-07T21:32:44.952112Z",
     "start_time": "2025-05-07T21:32:44.792474Z"
    }
   },
   "cell_type": "code",
   "source": [
    "for df, name in [(df_train, 'Train'), (df_test, 'Test')]:\n",
    "    df['aspectTerms'] = df['aspectTerms'].apply(parse_aspect_terms)\n",
    "    print(f\"{name} - converted `aspectTerms` sample:\")\n",
    "    display(df[['sentenceId', 'raw_text', 'aspectTerms']].head())"
   ],
   "id": "82eaf7cffcf1c847",
   "outputs": [
    {
     "name": "stdout",
     "output_type": "stream",
     "text": [
      "Train - converted `aspectTerms` sample:\n"
     ]
    },
    {
     "data": {
      "text/plain": [
       "   sentenceId                                           raw_text  \\\n",
       "0         241  As a blistering exercise in sustained tension,...   \n",
       "1        1680  Surprisingly very good adaption of the origina...   \n",
       "2         693  Seeing this film was the absolute best decisio...   \n",
       "3         421  For a film so clearly designed to be fun above...   \n",
       "4         826  “Freaky Tales” will find its audience, I think...   \n",
       "\n",
       "                                         aspectTerms  \n",
       "0  [{'term': 'Warfare', 'polarity': 'positive'}, ...  \n",
       "1  [{'term': 'adaption', 'polarity': 'positive'},...  \n",
       "2  [{'term': 'film', 'polarity': 'positive'}, {'t...  \n",
       "3  [{'term': 'film', 'polarity': 'neutral'}, {'te...  \n",
       "4  [{'term': 'Freaky Tales', 'polarity': 'positiv...  "
      ],
      "text/html": [
       "<div>\n",
       "<style scoped>\n",
       "    .dataframe tbody tr th:only-of-type {\n",
       "        vertical-align: middle;\n",
       "    }\n",
       "\n",
       "    .dataframe tbody tr th {\n",
       "        vertical-align: top;\n",
       "    }\n",
       "\n",
       "    .dataframe thead th {\n",
       "        text-align: right;\n",
       "    }\n",
       "</style>\n",
       "<table border=\"1\" class=\"dataframe\">\n",
       "  <thead>\n",
       "    <tr style=\"text-align: right;\">\n",
       "      <th></th>\n",
       "      <th>sentenceId</th>\n",
       "      <th>raw_text</th>\n",
       "      <th>aspectTerms</th>\n",
       "    </tr>\n",
       "  </thead>\n",
       "  <tbody>\n",
       "    <tr>\n",
       "      <th>0</th>\n",
       "      <td>241</td>\n",
       "      <td>As a blistering exercise in sustained tension,...</td>\n",
       "      <td>[{'term': 'Warfare', 'polarity': 'positive'}, ...</td>\n",
       "    </tr>\n",
       "    <tr>\n",
       "      <th>1</th>\n",
       "      <td>1680</td>\n",
       "      <td>Surprisingly very good adaption of the origina...</td>\n",
       "      <td>[{'term': 'adaption', 'polarity': 'positive'},...</td>\n",
       "    </tr>\n",
       "    <tr>\n",
       "      <th>2</th>\n",
       "      <td>693</td>\n",
       "      <td>Seeing this film was the absolute best decisio...</td>\n",
       "      <td>[{'term': 'film', 'polarity': 'positive'}, {'t...</td>\n",
       "    </tr>\n",
       "    <tr>\n",
       "      <th>3</th>\n",
       "      <td>421</td>\n",
       "      <td>For a film so clearly designed to be fun above...</td>\n",
       "      <td>[{'term': 'film', 'polarity': 'neutral'}, {'te...</td>\n",
       "    </tr>\n",
       "    <tr>\n",
       "      <th>4</th>\n",
       "      <td>826</td>\n",
       "      <td>“Freaky Tales” will find its audience, I think...</td>\n",
       "      <td>[{'term': 'Freaky Tales', 'polarity': 'positiv...</td>\n",
       "    </tr>\n",
       "  </tbody>\n",
       "</table>\n",
       "</div>"
      ]
     },
     "metadata": {},
     "output_type": "display_data"
    },
    {
     "name": "stdout",
     "output_type": "stream",
     "text": [
      "Test - converted `aspectTerms` sample:\n"
     ]
    },
    {
     "data": {
      "text/plain": [
       "   sentenceId                                           raw_text  \\\n",
       "0        1404           Very good plot with an unexpected ending   \n",
       "1         354  Mickey 17 is an ambitious spectacle. One that ...   \n",
       "2        1344  An audacious, exhilarating and heartfelt spect...   \n",
       "3         909  What we’ve wound up with in these Freaky Tales...   \n",
       "4        1300  An exhilarating survive-the-night vampire thri...   \n",
       "\n",
       "                                         aspectTerms  \n",
       "0  [{'term': 'plot', 'polarity': 'positive'}, {'t...  \n",
       "1  [{'term': 'Mickey 17', 'polarity': 'positive'}...  \n",
       "2  [{'term': 'spectacle', 'polarity': 'positive'}...  \n",
       "3  [{'term': 'Freaky Tales', 'polarity': 'positiv...  \n",
       "4  [{'term': 'vampire thriller', 'polarity': 'pos...  "
      ],
      "text/html": [
       "<div>\n",
       "<style scoped>\n",
       "    .dataframe tbody tr th:only-of-type {\n",
       "        vertical-align: middle;\n",
       "    }\n",
       "\n",
       "    .dataframe tbody tr th {\n",
       "        vertical-align: top;\n",
       "    }\n",
       "\n",
       "    .dataframe thead th {\n",
       "        text-align: right;\n",
       "    }\n",
       "</style>\n",
       "<table border=\"1\" class=\"dataframe\">\n",
       "  <thead>\n",
       "    <tr style=\"text-align: right;\">\n",
       "      <th></th>\n",
       "      <th>sentenceId</th>\n",
       "      <th>raw_text</th>\n",
       "      <th>aspectTerms</th>\n",
       "    </tr>\n",
       "  </thead>\n",
       "  <tbody>\n",
       "    <tr>\n",
       "      <th>0</th>\n",
       "      <td>1404</td>\n",
       "      <td>Very good plot with an unexpected ending</td>\n",
       "      <td>[{'term': 'plot', 'polarity': 'positive'}, {'t...</td>\n",
       "    </tr>\n",
       "    <tr>\n",
       "      <th>1</th>\n",
       "      <td>354</td>\n",
       "      <td>Mickey 17 is an ambitious spectacle. One that ...</td>\n",
       "      <td>[{'term': 'Mickey 17', 'polarity': 'positive'}...</td>\n",
       "    </tr>\n",
       "    <tr>\n",
       "      <th>2</th>\n",
       "      <td>1344</td>\n",
       "      <td>An audacious, exhilarating and heartfelt spect...</td>\n",
       "      <td>[{'term': 'spectacle', 'polarity': 'positive'}...</td>\n",
       "    </tr>\n",
       "    <tr>\n",
       "      <th>3</th>\n",
       "      <td>909</td>\n",
       "      <td>What we’ve wound up with in these Freaky Tales...</td>\n",
       "      <td>[{'term': 'Freaky Tales', 'polarity': 'positiv...</td>\n",
       "    </tr>\n",
       "    <tr>\n",
       "      <th>4</th>\n",
       "      <td>1300</td>\n",
       "      <td>An exhilarating survive-the-night vampire thri...</td>\n",
       "      <td>[{'term': 'vampire thriller', 'polarity': 'pos...</td>\n",
       "    </tr>\n",
       "  </tbody>\n",
       "</table>\n",
       "</div>"
      ]
     },
     "metadata": {},
     "output_type": "display_data"
    }
   ],
   "execution_count": 37
  },
  {
   "metadata": {
    "ExecuteTime": {
     "end_time": "2025-05-07T21:33:10.716305Z",
     "start_time": "2025-05-07T21:33:10.699429Z"
    }
   },
   "cell_type": "code",
   "source": [
    "assert df_train['aspectTerms'].apply(lambda x: isinstance(x, list) and all(isinstance(i, dict) for i in x)).all(),  \"Conversion failed for some rows in train\"\n",
    "assert df_test['aspectTerms'].apply(lambda x: isinstance(x, list) and all(isinstance(i, dict) for i in x)).all(), \"Conversion failed for some rows in test\"\n",
    "print(\"All `aspectTerms` entries are now list of dicts.\")"
   ],
   "id": "1a566f149bfef47e",
   "outputs": [
    {
     "name": "stdout",
     "output_type": "stream",
     "text": [
      "All `aspectTerms` entries are now list of dicts.\n"
     ]
    }
   ],
   "execution_count": 38
  },
  {
   "metadata": {
    "ExecuteTime": {
     "end_time": "2025-05-07T21:33:32.839540Z",
     "start_time": "2025-05-07T21:33:32.806043Z"
    }
   },
   "cell_type": "code",
   "source": [
    "clean_train_path = 'train_processed_cleaned.csv'\n",
    "clean_test_path = 'test_processed_cleaned.csv'\n",
    "\n",
    "df_train.to_csv(clean_train_path, index=False)\n",
    "df_test.to_csv(clean_test_path, index=False)\n",
    "\n",
    "print(\n",
    "    \"Cleaned files saved to (all original columns preserved):\\n\"\n",
    "    f\"{clean_train_path}\\n\"\n",
    "    f\"{clean_test_path}\"\n",
    ")"
   ],
   "id": "a2019fbdabf56fd2",
   "outputs": [
    {
     "name": "stdout",
     "output_type": "stream",
     "text": [
      "Cleaned files saved to (all original columns preserved):\n",
      "train_processed_cleaned.csv\n",
      "test_processed_cleaned.csv\n"
     ]
    }
   ],
   "execution_count": 39
  },
  {
   "metadata": {},
   "cell_type": "code",
   "outputs": [],
   "execution_count": null,
   "source": "",
   "id": "63e8642b5d150fd5"
  }
 ],
 "metadata": {
  "kernelspec": {
   "display_name": "Python (medical_image_segmentation)",
   "language": "python",
   "name": "medical_image_segmentation"
  },
  "language_info": {
   "codemirror_mode": {
    "name": "ipython",
    "version": 2
   },
   "file_extension": ".py",
   "mimetype": "text/x-python",
   "name": "python",
   "nbconvert_exporter": "python",
   "pygments_lexer": "ipython2",
   "version": "2.7.6"
  }
 },
 "nbformat": 4,
 "nbformat_minor": 5
}
